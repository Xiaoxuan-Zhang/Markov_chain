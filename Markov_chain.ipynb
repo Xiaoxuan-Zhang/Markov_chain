{
 "cells": [
  {
   "cell_type": "code",
   "execution_count": 2,
   "metadata": {},
   "outputs": [],
   "source": [
    "import random\n",
    "import glob, os"
   ]
  },
  {
   "cell_type": "code",
   "execution_count": 3,
   "metadata": {},
   "outputs": [],
   "source": [
    "def load_txt(filePath, encoding='utf-8'):\n",
    "    with open(filePath, 'r', encoding='utf-8') as f:\n",
    "        text = f.read()\n",
    "        text = text.replace(\" \", '')\n",
    "        text = text.replace(\"\\r\\n\", '')\n",
    "        text = text.replace(\"\\n\", '')\n",
    "        text = text.replace(\"\\t\", '')\n",
    "        \n",
    "    print(f\"{len(text)} characters in file\")\n",
    "    return text\n",
    "\n",
    "def make_rules(database, size = 2):\n",
    "    rules = dict()\n",
    "    data_len = len(database)\n",
    "    for idx in range(data_len - size):\n",
    "        key = database[idx:idx+size]\n",
    "        if key not in rules.keys():\n",
    "            rules[key] = []\n",
    "            \n",
    "        value = database[idx+size]\n",
    "        rules[key].append(value)\n",
    "            \n",
    "    return rules\n",
    "\n",
    "def generate(rules, output_size=100, input_word=\"\"):\n",
    "    new_story = \"\"\n",
    "    if not input_word:\n",
    "        input_word = random.choice(list(rules.keys()))\n",
    "    n_size = len(input_word)\n",
    "    new_story += input_word\n",
    "    next_word = input_word\n",
    "    for n in range(output_size):\n",
    "        new_words = random.choice(rules[next_word])\n",
    "        next_word = new_words\n",
    "        new_story += next_word\n",
    "        next_word = new_story[len(new_story)-n_size:]\n",
    "    print(new_story)"
   ]
  },
  {
   "cell_type": "code",
   "execution_count": 6,
   "metadata": {},
   "outputs": [
    {
     "name": "stdout",
     "output_type": "stream",
     "text": [
      "845617 characters in file\n",
      "城请老爷的示下。还瞧瞧奶奶家里好，叫把大毛衣裳带几件去。”凤姐道：“我就知道有坏事，果然生个一男半女，你就和他要些来吃，也是愿受的。所以不单我得靠，连你小婶、媳妇也都省心。我有了这个，你说的是！快说底下的。”贾琏道：“想是天玉补心丹。”王夫人又提起宝钗来，分晰前日的事，以解他的疑心，恰碰在一处，只怕那一个还求。林之孝只管跪着，不敢言语，只管抿着嘴儿笑。可巧邢夫人过来，硬作保山。邢夫人王夫人之物，当面查点与跟随的管事媳妇们。周瑞家的听了这小么儿一席话说得赵姨娘闭口无言，只得回来。因惦记着要问芳官原委，偏有湘云香菱来了，正和袭人芳官一处说笑，不觉到‘绿叶成阴子满枝’了。再过几日，早将诸事办妥，回程已是将近两个月的夫妻，日子虽浅，我也知道。如今惟有趁着赌钱的因由革了许多人正吃饭，见他们来了，必有人不放心。”平儿一来时已明白了。”探春道：\"这是随身的东西，他那里记得许多？”一面想，一面顺着花障走来，得了个月洞门进去。满屋一瞧，并不见好。日落后，王子胜和亲戚家已送过一班戏来，就在贾母上房摆了几席新酒佳肴。可喜尤氏又带了佩凤偕鸾二妾过来游玩。这二妾亦是青年娇憨女子，不常过来，今儿特来，你们要懒怠听，连酒底儿都免了，我就好回去了。”宝玉听了这话，留神细看，见这女孩子面生，不是个读书上学的公子了，倒象我们没主意，听见里头乱嚷出来说，“老太太今儿喜欢，又叫鸳鸯过来求薛姨妈和宝钗急的没法。正闹着，只见那一个也慢慢的退出去，归入贾芹阶位之首。当时凡从“文”旁之名者，贾敬为首；下则从“玉”者，贾珍为首；再下从“草头”者，贾珍为首；再下从“草头”者，贾珍为首；再下从“草头”者，贾蓉为首：左昭右穆，男东女西归坐，献屠苏酒、合欢汤、吉祥果、如意糕毕。贾母起身道：“舅母所说，可是衔玉而生的？在家时记得母亲常说，这屋里的人都出去，一急越发不好意思了。这周大爷先时和我父亲交过一桩事，我们爷儿们感激不尽。惟有等事完了，不想二爷要茶喝，邢夫人王夫人之位。下边便是尤氏、李纨、凤姐等并大姐儿、香菱等在山石边掐凤仙花呢，见了他两个，也就罢了。一时贾环贾兰在坐，只有极力夸赞说：“久仰芳名，无由亲炙，今日见面，真是谪仙一流的人物。”那甄宝玉也请了王夫人，将所完之事回明贾母，如若愿意，即将三姑娘接到任所。家人奉命，赶到京中回明了王夫人邢夫人并薛姨妈寸步不离，只围着哭。此时贾政见贾母怒气未消，不敢自己作主，要求府里一个人没死就\n"
     ]
    }
   ],
   "source": [
    "database = load_txt(\"红楼梦.txt\")\n",
    "rules = make_rules(database, size=4)\n",
    "generate(rules, output_size=1000)"
   ]
  },
  {
   "cell_type": "code",
   "execution_count": 5,
   "metadata": {},
   "outputs": [
    {
     "name": "stdout",
     "output_type": "stream",
     "text": [
      "['jinyong\\\\shendiaoxialv_jinyong.txt', 'jinyong\\\\tianlongbabu_jinyong.txt', 'jinyong\\\\yitiantulongji_jinyong.txt']\n",
      "953734 characters in file\n",
      "1214162 characters in file\n",
      "958850 characters in file\n",
      "是改一个名字的好。”殷素素忽地以银针偷袭，船舱中地方既窄，又满是污泥，段誉身子已然腾起，轻轻巧巧的从轮孔中滑脱。金轮法王铁轮斜挥架开，左掌却装微有不甚灵便之象，同时故意极力掩饰，张无忌仍可隐约见到赵敏的真相，那是再好也没有了，只是缺一把胡子击敌。周伯通最爱有人与他胡闹，眼见樊一翁钢杖横扫，往自己头顶，暗叫：“不好。”同时上前救助。但段延庆并不乘机袭击，钟万仇走了出来，口中鲜血直喷，慕容复第二掌又击向他胸口直刺过来，乔峰听风辨形，左掌回转，便斩他手腕。那人尖刀脱手飞出，只这么一弹，你这只手掌岂不是当场毙命，这一场混战，那么这赵钱孙处处跟单正挑眼，不知为甚么无端端的去跟段家作对，那不是欺人太甚，我只不过多了一件短短的兵器，达尔巴听来，正是赵敏，也从未听人说起，桃花岛门人恃众为胜，可没说出来。”华赫艮喜道：“妈，倘若我是一头牛、一头羊，那就好了。”次日在湖畔周围漫步游荡，摘拾野果，捕捉禽兽之际渐觉手足轻灵，纵前跃后，扰乱对方心神凝定，此法往往无效。要是对方内力了得，倒是不易收拾。郭芙见杨过不答，刷的一下，双掌相交，身子各是一晃。他心下冷笑：“这小姑娘给你做老婆。还管他什么佛门不佛门？什么恶口戒、善口戒？”他说的师父，是全真剑法变为玉女剑法克制。那玉女剑法的“横行漠北”，小龙女忽道：“不，我是问你，料你也不懂。你这等井底之蛙，可小觑了。柳姑娘……你在阴世，可也知道吗？”张无忌正在打坐养神，只待万安寺中施展此招，被范遥轻轻一推，拍的一声，有人放轻了脚步走过。张无忌大腿，在他裤脚上划破了几条爪痕，隐隐生痛。张翠山叫道：“喂，大伙儿没空听你胡说八道些甚么？师母私下传你的功夫有甚么用意？”陆无双道：“这墓中到处透着邪门诡异。次日天刚黎明，谢逊用狼牙棒敲下冰块，不住掷来。但他双目能暗中见物，不知变故因何而起，只怕……只怕不妥……”心想这种事不能多说，转过话头，不再言语，倚在一株大树上一人双足钩住马背，足尖一踢，那马便冲了下去。木婉清见那队骑兵身披锦衣，骑着骏马，说道：“东邪西狂，一老一少，携手没入黑暗之中，只露出一缝，作为谢逊呼吸粗重，知道事势危急，下令道：“各位别忙，听我一言。”群丐渐渐静了下来，便知那晚舍身相就的白衣女人是人，决不是胆敢得罪段氏的小王爷？”那掌柜道：“当年雁门关外杀我父母？为何混入少林寺拜神僧空见之事，后来城中拿不到刺客，查得也慢慢松了，这件事中间，却还有个老大难处。”阿\n"
     ]
    }
   ],
   "source": [
    "files = glob.glob(os.path.join(\"jinyong\", \"*.txt\"))\n",
    "print(files)\n",
    "text = ''\n",
    "for file in files:\n",
    "    text += load_txt(file, encoding='utf-8')\n",
    "rules = make_rules(text, size=4)\n",
    "generate(rules, output_size=1000)"
   ]
  },
  {
   "cell_type": "code",
   "execution_count": null,
   "metadata": {},
   "outputs": [],
   "source": []
  }
 ],
 "metadata": {
  "kernelspec": {
   "display_name": "Python 3",
   "language": "python",
   "name": "python3"
  },
  "language_info": {
   "codemirror_mode": {
    "name": "ipython",
    "version": 3
   },
   "file_extension": ".py",
   "mimetype": "text/x-python",
   "name": "python",
   "nbconvert_exporter": "python",
   "pygments_lexer": "ipython3",
   "version": "3.6.7"
  }
 },
 "nbformat": 4,
 "nbformat_minor": 2
}
